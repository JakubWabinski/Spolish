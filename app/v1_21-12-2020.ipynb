{
 "cells": [
  {
   "cell_type": "markdown",
   "metadata": {},
   "source": [
    "## WCZYTANIE DANYCH"
   ]
  },
  {
   "cell_type": "code",
   "execution_count": 1,
   "metadata": {},
   "outputs": [],
   "source": [
    "import pandas as pd\n",
    "import random"
   ]
  },
  {
   "cell_type": "code",
   "execution_count": 2,
   "metadata": {},
   "outputs": [],
   "source": [
    "dictionary = pd.read_csv('../vocabulary.csv', names = ['hiszpanski', 'polski'], sep = ' ; ', encoding = 'utf-8', engine = 'python')\n",
    "df = pd.DataFrame(dictionary)"
   ]
  },
  {
   "cell_type": "markdown",
   "metadata": {},
   "source": [
    "## PRZYGOTOWANIE DANYCH"
   ]
  },
  {
   "cell_type": "code",
   "execution_count": 3,
   "metadata": {},
   "outputs": [],
   "source": [
    "# Przerobienie wszystkich elementów na małe litery\n",
    "\n",
    "df = df.apply(lambda x: x.astype(str).str.lower())"
   ]
  },
  {
   "cell_type": "code",
   "execution_count": 4,
   "metadata": {},
   "outputs": [],
   "source": [
    "# Wyciągnięcie uzupełnień i podpowiedzi\n",
    "\n",
    "df['hiszpanski_uzupelnienie'] = df['hiszpanski'].str.extract(r\"\\[([A-Z a-z éñóí]+)\\]\", expand = False)\n",
    "df['hiszpanski'] = df['hiszpanski'].str.replace(r\"\\[([A-Z a-z éñóí]+)\\]\", '').str.rstrip()\n",
    "\n",
    "df['polski_uzupelnienie'] = df['polski'].str.extract(r\"\\[([A-Z a-z żźćńółęąśŻŹĆĄŚĘŁÓŃ]+)\\]\", expand = False)\n",
    "df['polski'] = df['polski'].str.replace(r\"\\[([A-Z a-z żźćńółęąśŻŹĆĄŚĘŁÓŃ]+)\\]\", '')"
   ]
  },
  {
   "cell_type": "code",
   "execution_count": 5,
   "metadata": {},
   "outputs": [],
   "source": [
    "# Wyciągnięcie angielskim wariantów z nawiasów, wyciągnięcie ich do nowej kolumny i usunięcie oryginału\n",
    "\n",
    "df['angielski'] = df['polski'].str.extract(r\"\\(([A-Z a-z]+)\\)\", expand = False).str.rstrip()\n",
    "df['polski'] = df['polski'].str.replace(r\"\\(([A-Z a-z]+)\\)\", '').str.rstrip()"
   ]
  },
  {
   "cell_type": "code",
   "execution_count": 6,
   "metadata": {},
   "outputs": [],
   "source": [
    "# Wyciągnięcie różnych wariantów polskiego tłumaczenia do osobnych kolumn i usunięcie oryginału\n",
    "\n",
    "df[['polski1', 'polski2']] = df['polski'].str.split('/', expand = True)\n",
    "df = df.drop('polski', axis = 'columns', errors = 'ignore')\n",
    "\n",
    "df[['hiszpanski1', 'hiszpanski2']] = df['hiszpanski'].str.split('/', expand = True)\n",
    "df = df.drop('hiszpanski', axis = 'columns', errors = 'ignore')"
   ]
  },
  {
   "cell_type": "code",
   "execution_count": 7,
   "metadata": {},
   "outputs": [],
   "source": [
    "df = df[['hiszpanski1', 'hiszpanski2', 'hiszpanski_uzupelnienie',\n",
    "        'polski1', 'polski2', 'polski_uzupelnienie', 'angielski']]"
   ]
  },
  {
   "cell_type": "markdown",
   "metadata": {},
   "source": [
    "## APLIKACJA"
   ]
  },
  {
   "cell_type": "code",
   "execution_count": 40,
   "metadata": {},
   "outputs": [
    {
     "name": "stdout",
     "output_type": "stream",
     "text": [
      "Podaj tłumaczenie dla wyrażenia hiszpanski1    fingar\n",
      "Name: 114, dtype: object: udawać\n",
      "Dobrze!\n"
     ]
    }
   ],
   "source": [
    "# Take a random row from dataframe\n",
    "trial = df.sample()\n",
    "\n",
    "# Get index of the random row\n",
    "tlumaczenie_p1 = df['polski1'].iloc[trial.index.item()]\n",
    "tlumaczenie_p2 = df['polski2'].iloc[trial.index.item()]\n",
    "\n",
    "tlumaczenie_h1 = df['hiszpanski1'].iloc[trial.index.item()]\n",
    "tlumaczenie_h2 = df['hiszpanski2'].iloc[trial.index.item()]\n",
    "\n",
    "# Choosing at random if what direction we want to translate \n",
    "options = [['polski1'], ['hiszpanski1']]\n",
    "choice = random.choice(options)\n",
    "\n",
    "# Ask for user input based on the \n",
    "X = input('Podaj tłumaczenie dla wyrażenia {}: '.format(df[choice].iloc[trial.index.item()]))\n",
    "\n",
    "if str(choice) == \"['hiszpanski1']\":\n",
    "    if X == tlumaczenie_p1 or X == tlumaczenie_p2:\n",
    "        print('Dobrze!')\n",
    "    else:\n",
    "        print('Zła odpowiedź!')\n",
    "        print('Prawidłowa odpowiedź to: {}'.format(df['polski1'].iloc[trial.index.item()]))\n",
    "if str(choice) == \"['polski1']\":\n",
    "    if X == tlumaczenie_h1 or X == tlumaczenie_h2:\n",
    "        print('Dobrze!')\n",
    "    else:\n",
    "        print('Zła odpowiedź!')\n",
    "        print('Prawidłowa odpowiedź to: {}'.format(df['hiszpanski1'].iloc[trial.index.item()]))"
   ]
  }
 ],
 "metadata": {
  "kernelspec": {
   "display_name": "Python 3",
   "language": "python",
   "name": "python3"
  },
  "language_info": {
   "codemirror_mode": {
    "name": "ipython",
    "version": 3
   },
   "file_extension": ".py",
   "mimetype": "text/x-python",
   "name": "python",
   "nbconvert_exporter": "python",
   "pygments_lexer": "ipython3",
   "version": "3.7.9"
  }
 },
 "nbformat": 4,
 "nbformat_minor": 4
}
